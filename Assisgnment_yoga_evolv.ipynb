{
  "nbformat": 4,
  "nbformat_minor": 0,
  "metadata": {
    "colab": {
      "name": "Assisgnment_yoga_evolv.ipynb",
      "provenance": [],
      "collapsed_sections": []
    },
    "kernelspec": {
      "name": "python3",
      "display_name": "Python 3"
    },
    "language_info": {
      "name": "python"
    }
  },
  "cells": [
    {
      "cell_type": "markdown",
      "metadata": {
        "id": "WpUG5O-wo4Tn"
      },
      "source": [
        "Import Libraries"
      ]
    },
    {
      "cell_type": "code",
      "metadata": {
        "id": "LBqXsO8HVtu-"
      },
      "source": [
        "import pandas as pd\n",
        "import numpy as np\n",
        "from itertools import combinations\n",
        "import glob\n",
        "\n",
        "import concurrent.futures\n",
        "from tqdm import tqdm\n",
        "import time\n",
        "\n",
        "from sklearn.model_selection import train_test_split\n",
        "from sklearn.preprocessing import LabelEncoder\n",
        "\n",
        "import tensorflow as tf\n",
        "import tensorflow_hub as hub\n",
        "\n",
        "import matplotlib.pyplot as plt\n",
        "import matplotlib.image as mpimg"
      ],
      "execution_count": null,
      "outputs": []
    },
    {
      "cell_type": "markdown",
      "metadata": {
        "id": "rQjopVwGo4gL"
      },
      "source": [
        "Mount the drive"
      ]
    },
    {
      "cell_type": "code",
      "metadata": {
        "id": "0ZA9lnYZV-2z",
        "colab": {
          "base_uri": "https://localhost:8080/"
        },
        "outputId": "304d4e52-cbf1-4e44-ee24-958a0ebc0fc4"
      },
      "source": [
        "from google.colab import drive\n",
        "drive.mount('/content/gdrive')"
      ],
      "execution_count": null,
      "outputs": [
        {
          "output_type": "stream",
          "text": [
            "Mounted at /content/gdrive\n"
          ],
          "name": "stdout"
        }
      ]
    },
    {
      "cell_type": "markdown",
      "metadata": {
        "id": "yk0v6rjJvG8f"
      },
      "source": [
        "UnZip the file"
      ]
    },
    {
      "cell_type": "code",
      "metadata": {
        "colab": {
          "base_uri": "https://localhost:8080/"
        },
        "id": "h3zh2GiodWq2",
        "outputId": "5bcc76bb-fd64-4cc0-bbbd-b0cdc6707156"
      },
      "source": [
        "from zipfile import ZipFile\n",
        "  \n",
        "# specifying the zip file name\n",
        "file_name = \"/content/gdrive/MyDrive/yoga/yoga pose/Test-20210722T143452Z-001.zip\"\n",
        "  \n",
        "# opening the zip file in READ mode\n",
        "with ZipFile(file_name, 'r') as zip:\n",
        "    # printing all the contents of the zip file\n",
        "    zip.printdir()\n",
        "  \n",
        "    # extracting all the files\n",
        "    print('Extracting all the files now...')\n",
        "    zip.extractall()\n",
        "    print('Done!')"
      ],
      "execution_count": null,
      "outputs": [
        {
          "output_type": "stream",
          "text": [
            "File Name                                             Modified             Size\n",
            "Test/tree/00000056.jpg                         2020-10-13 20:49:08        28887\n",
            "Test/tree/00000059.jpg                         2020-10-13 20:49:08       265788\n",
            "Test/tree/00000049.jpg                         2020-10-13 20:49:08        92873\n",
            "Test/tree/00000065.jpg                         2020-10-13 20:49:08        57968\n",
            "Test/tree/00000069.jpg                         2020-10-13 20:49:08        22129\n",
            "Test/tree/00000058.jpg                         2020-10-13 20:49:08        31767\n",
            "Test/tree/00000055.jpg                         2020-10-13 20:49:08        83086\n",
            "Test/tree/00000053.jpg                         2020-10-13 20:49:08        43230\n",
            "Test/tree/00000063.jpg                         2020-10-13 20:49:08        33195\n",
            "Test/tree/00000064.jpg                         2020-10-13 20:49:08       176796\n",
            "Test/tree/00000051.png                         2020-10-13 20:49:08       117038\n",
            "Test/tree/00000062.jpg                         2020-10-13 20:49:08        77786\n",
            "Test/tree/00000048.jpg                         2020-10-13 20:49:08       778987\n",
            "Test/tree/00000057.jpg                         2020-10-13 20:49:08        23064\n",
            "Test/tree/00000060.jpg                         2020-10-13 20:49:08        23946\n",
            "Test/tree/00000054.jpg                         2020-10-13 20:49:08        38645\n",
            "Test/tree/00000067.jpg                         2020-10-13 20:49:08       102502\n",
            "Test/tree/00000068.png                         2020-10-13 20:49:08       503712\n",
            "Test/tree/00000050.jpg                         2020-10-13 20:49:08        65389\n",
            "Test/tree/00000042.jpg                         2020-10-13 20:49:06        53261\n",
            "Test/tree/00000052.jpg                         2020-10-13 20:49:08        58084\n",
            "Test/tree/00000061.jpg                         2020-10-13 20:49:08        17274\n",
            "Test/tree/00000034.jpg                         2020-10-13 20:49:06        54285\n",
            "Test/downdog/00000127.png                      2020-10-13 20:49:00        12775\n",
            "Test/downdog/00000108.jpg                      2020-10-13 20:49:00       143721\n",
            "Test/tree/00000037.jpg                         2020-10-13 20:49:06        15626\n",
            "Test/downdog/00000121.jpg                      2020-10-13 20:49:00        78139\n",
            "Test/downdog/00000124.jpg                      2020-10-13 20:49:00        63795\n",
            "Test/downdog/00000125.jpg                      2020-10-13 20:49:00        23243\n",
            "Test/downdog/00000126.jpg                      2020-10-13 20:49:00        11057\n",
            "Test/downdog/00000114.jpg                      2020-10-13 20:49:00       197678\n",
            "Test/downdog/00000120.jpg                      2020-10-13 20:49:00        33781\n",
            "Test/downdog/00000118.jpg                      2020-10-13 20:49:00        21627\n",
            "Test/plank/00000065.JPG                        2020-10-13 20:49:02       177695\n",
            "Test/plank/00000042.jpg                        2020-10-13 20:49:02        20243\n",
            "Test/downdog/00000109.jpg                      2020-10-13 20:49:00        83340\n",
            "Test/plank/00000058.png                        2020-10-13 20:49:02        34575\n",
            "Test/plank/00000111.jpg                        2020-10-13 20:49:02        22191\n",
            "Test/downdog/00000111.jpg                      2020-10-13 20:49:00        59033\n",
            "Test/downdog/00000112.jpg                      2020-10-13 20:49:00       120108\n",
            "Test/plank/00000063.jpg                        2020-10-13 20:49:02        20016\n",
            "Test/plank/00000125.jpg                        2020-10-13 20:49:02        61817\n",
            "Test/downdog/00000115.jpg                      2020-10-13 20:49:00        23243\n",
            "Test/downdog/00000107.jpg                      2020-10-13 20:48:58      1002744\n",
            "Test/downdog/00000040.jpg                      2020-10-13 20:48:58        84537\n",
            "Test/plank/00000038.jpg                        2020-10-13 20:49:02        48786\n",
            "Test/plank/00000022.jpg                        2020-10-13 20:49:02       135884\n",
            "Test/downdog/00000037.jpg                      2020-10-13 20:48:58      1136078\n",
            "Test/downdog/00000067.jpg                      2020-10-13 20:48:58        78344\n",
            "Test/plank/00000117.jpg                        2020-10-13 20:49:02        76855\n",
            "Test/downdog/00000075.png                      2020-10-13 20:48:58      1514217\n",
            "Test/downdog/00000062.jpg                      2020-10-13 20:48:58       253656\n",
            "Test/plank/00000049.jpg                        2020-10-13 20:49:02       764503\n",
            "Test/plank/00000053.jpg                        2020-10-13 20:49:02       142590\n",
            "Test/plank/00000062.jpg                        2020-10-13 20:49:02       101097\n",
            "Test/downdog/00000017.png                      2020-10-13 20:48:58       355004\n",
            "Test/plank/00000094.jpg                        2020-10-13 20:49:02        18588\n",
            "Test/plank/00000025.jpg                        2020-10-13 20:49:02        29083\n",
            "Test/downdog/00000092.jpg                      2020-10-13 20:48:58        66090\n",
            "Test/downdog/00000094.jpg                      2020-10-13 20:48:58        11057\n",
            "Test/downdog/00000057.jpg                      2020-10-13 20:48:58        86885\n",
            "Test/downdog/00000060.jpg                      2020-10-13 20:48:58        11820\n",
            "Test/plank/00000121.jpg                        2020-10-13 20:49:02        60492\n",
            "Test/downdog/00000068.jpg                      2020-10-13 20:48:58        39130\n",
            "Test/plank/00000045.jpg                        2020-10-13 20:49:02        13373\n",
            "Test/plank/00000052.jpg                        2020-10-13 20:49:02        28531\n",
            "Test/plank/00000036.jpg                        2020-10-13 20:49:02       140760\n",
            "Test/plank/00000026.jpg                        2020-10-13 20:49:02       232164\n",
            "Test/plank/00000054.png                        2020-10-13 20:49:02      1542458\n",
            "Test/plank/00000039.jpg                        2020-10-13 20:49:02        13373\n",
            "Test/plank/00000107.jpg                        2020-10-13 20:49:02        37362\n",
            "Test/goddess/00000074.jpg                      2020-10-13 20:49:00        32102\n",
            "Test/plank/00000099.jpg                        2020-10-13 20:49:02        40387\n",
            "Test/plank/00000112.jpg                        2020-10-13 20:49:02        80461\n",
            "Test/goddess/00000092.png                      2020-10-13 20:49:00      1528919\n",
            "Test/goddess/00000012.jpg                      2020-10-13 20:49:00        27233\n",
            "Test/goddess/00000071.jpg                      2020-10-13 20:49:00        24567\n",
            "Test/goddess/00000090.jpg                      2020-10-13 20:49:00        56973\n",
            "Test/goddess/00000057.jpg                      2020-10-13 20:49:00       760953\n",
            "Test/goddess/00000001.jpg                      2020-10-13 20:49:00        34878\n",
            "Test/goddess/00000040.jpg                      2020-10-13 20:49:00       103297\n",
            "Test/goddess/00000060.jpg                      2020-10-13 20:49:00        89329\n",
            "Test/goddess/00000022.jpg                      2020-10-13 20:49:00        30941\n",
            "Test/goddess/00000003.jpg                      2020-10-13 20:49:00       788322\n",
            "Test/goddess/00000020.png                      2020-10-13 20:49:00       320465\n",
            "Test/goddess/00000027.jpg                      2020-10-13 20:49:00        56475\n",
            "Test/goddess/00000082.jpg                      2020-10-13 20:49:00       268274\n",
            "Test/goddess/00000083.jpg                      2020-10-13 20:49:00       103738\n",
            "Test/goddess/00000059.jpg                      2020-10-13 20:49:00        34627\n",
            "Test/goddess/00000046.jpg                      2020-10-13 20:49:00        30768\n",
            "Test/goddess/00000076.jpg                      2020-10-13 20:49:00        13672\n",
            "Test/goddess/00000063.jpg                      2020-10-13 20:49:00       911315\n",
            "Test/goddess/00000014.jpg                      2020-10-13 20:49:00        25444\n",
            "Test/goddess/00000038.png                      2020-10-13 20:49:00       182923\n",
            "Test/goddess/00000019.jpg                      2020-10-13 20:49:00        56735\n",
            "Test/goddess/00000078.jpg                      2020-10-13 20:49:00        47505\n",
            "Test/warrior2/00000088.jpg                     2020-10-13 20:49:08       193088\n",
            "Test/warrior2/00000111.jpg                     2020-10-13 20:49:08        38612\n",
            "Test/warrior2/00000034.jpg                     2020-10-13 20:49:08        56747\n",
            "Test/warrior2/00000025.png                     2020-10-13 20:49:08        69893\n",
            "Test/warrior2/00000055.jpg                     2020-10-13 20:49:08       120715\n",
            "Test/goddess/00000054.jpg                      2020-10-13 20:49:00        96267\n",
            "Test/warrior2/00000011.jpg                     2020-10-13 20:49:08       173389\n",
            "Test/warrior2/00000074.jpg                     2020-10-13 20:49:08        31371\n",
            "Test/warrior2/00000054.jpg                     2020-10-13 20:49:08        34561\n",
            "Test/warrior2/00000040.jpg                     2020-10-13 20:49:08        46943\n",
            "Test/warrior2/00000099.jpg                     2020-10-13 20:49:08       175878\n",
            "Test/warrior2/00000036.jpg                     2020-10-13 20:49:08        60556\n",
            "Test/warrior2/00000063.jpg                     2020-10-13 20:49:08        40108\n",
            "Test/warrior2/00000019.jpg                     2020-10-13 20:49:08        54281\n",
            "Test/warrior2/00000085.jpg                     2020-10-13 20:49:08        76179\n",
            "Test/warrior2/00000024.jpg                     2020-10-13 20:49:08        56747\n",
            "Test/plank/00000104.jpg                        2020-10-13 20:49:02         4331\n",
            "Test/warrior2/00000094.jpg                     2020-10-13 20:49:08        61060\n",
            "Test/warrior2/00000030.jpg                     2020-10-13 20:49:08        29693\n",
            "Test/warrior2/00000114.jpg                     2020-10-13 20:49:08        75541\n",
            "Test/warrior2/00000057.png                     2020-10-13 20:49:08       286525\n",
            "Test/downdog/00000048.jpg                      2020-10-13 20:48:58       973755\n",
            "Test/downdog/00000053.jpg                      2020-10-13 20:48:58        24854\n",
            "Test/warrior2/00000044.jpg                     2020-10-13 20:49:08       892477\n",
            "Test/downdog/00000020.jpg                      2020-10-13 20:48:58        33728\n",
            "Test/warrior2/00000018.jpg                     2020-10-13 20:49:08        19854\n",
            "Test/downdog/00000058.jpg                      2020-10-13 20:48:58       217111\n",
            "Test/warrior2/00000015.jpg                     2020-10-13 20:49:08        89888\n",
            "Test/warrior2/00000010.jpg                     2020-10-13 20:49:08       136025\n",
            "Test/downdog/00000030.jpg                      2020-10-13 20:48:58        35432\n",
            "Test/downdog/00000080.jpg                      2020-10-13 20:48:58        33781\n",
            "Test/downdog/00000100.jpg                      2020-10-13 20:48:58        63795\n",
            "Test/downdog/00000044.jpg                      2020-10-13 20:48:58        43708\n",
            "Test/downdog/00000095.jpg                      2020-10-13 20:48:58        58598\n",
            "Test/downdog/00000041.png                      2020-10-13 20:48:58      1514217\n",
            "Test/downdog/00000085.jpg                      2020-10-13 20:48:58       938027\n",
            "Test/downdog/00000026.jpg                      2020-10-13 20:48:58        26529\n",
            "Test/downdog/00000050.jpg                      2020-10-13 20:48:58        12590\n",
            "Test/downdog/00000106.jpg                      2020-10-13 20:48:58        22555\n",
            "Test/downdog/00000023.jpg                      2020-10-13 20:48:58        26533\n",
            "Test/downdog/00000105.jpg                      2020-10-13 20:48:58        68825\n",
            "Test/downdog/00000077.jpg                      2020-10-13 20:48:58        20147\n",
            "Test/downdog/00000098.jpg                      2020-10-13 20:48:58        70156\n",
            "Test/downdog/00000103.jpg                      2020-10-13 20:48:58        20147\n",
            "Test/downdog/00000022.jpg                      2020-10-13 20:48:58        26096\n",
            "Test/downdog/00000099.jpg                      2020-10-13 20:48:58        78344\n",
            "Test/downdog/00000025.jpg                      2020-10-13 20:48:58       971630\n",
            "Test/downdog/00000064.jpg                      2020-10-13 20:48:58        81500\n",
            "Test/tree/00000036.jpg                         2020-10-13 20:49:06        38660\n",
            "Test/tree/00000038.jpg                         2020-10-13 20:49:06      1005286\n",
            "Test/downdog/00000019.jpg                      2020-10-13 20:48:58       653878\n",
            "Test/tree/00000044.jpg                         2020-10-13 20:49:06        12293\n",
            "Test/tree/00000043.jpg                         2020-10-13 20:49:06       168641\n",
            "Test/tree/00000032.jpg                         2020-10-13 20:49:06      1291285\n",
            "Test/warrior2/00000000.jpg                     2020-10-13 20:49:08       779369\n",
            "Test/tree/00000045.jpg                         2020-10-13 20:49:06        21252\n",
            "Test/tree/00000047.png                         2020-10-13 20:49:06     18409218\n",
            "Test/tree/00000046.jpg                         2020-10-13 20:49:06       214557\n",
            "Test/tree/00000031.jpg                         2020-10-13 20:49:06        31767\n",
            "Test/tree/00000040.jpg                         2020-10-13 20:49:06        66897\n",
            "Test/tree/00000026.jpg                         2020-10-13 20:49:04        45848\n",
            "Test/tree/00000022.jpg                         2020-10-13 20:49:04       168641\n",
            "Test/tree/00000035.jpg                         2020-10-13 20:49:06       106525\n",
            "Test/tree/00000041.jpg                         2020-10-13 20:49:06        79016\n",
            "Test/tree/00000039.jpg                         2020-10-13 20:49:06      3041736\n",
            "Test/tree/00000023.jpg                         2020-10-13 20:49:04        67438\n",
            "Test/tree/00000021.jpg                         2020-10-13 20:49:04        60544\n",
            "Test/tree/00000024.jpg                         2020-10-13 20:49:04        31193\n",
            "Test/tree/00000028.jpg                         2020-10-13 20:49:04        40047\n",
            "Test/tree/00000027.jpg                         2020-10-13 20:49:04        23064\n",
            "Test/tree/00000020.jpg                         2020-10-13 20:49:04        35128\n",
            "Test/tree/00000025.jpg                         2020-10-13 20:49:04        32235\n",
            "Test/tree/00000029.jpg                         2020-10-13 20:49:04        16512\n",
            "Test/warrior2/00000076.jpg                     2020-10-13 20:49:08        80068\n",
            "Test/warrior2/00000108.jpg                     2020-10-13 20:49:08       680761\n",
            "Test/warrior2/00000112.jpg                     2020-10-13 20:49:08        43002\n",
            "Test/tree/00000030.jpg                         2020-10-13 20:49:04      5014092\n",
            "Test/warrior2/00000042.jpg                     2020-10-13 20:49:08      1380637\n",
            "Test/tree/00000019.png                         2020-10-13 20:49:04     18409218\n",
            "Test/warrior2/00000053.jpg                     2020-10-13 20:49:08        86277\n",
            "Test/warrior2/00000095.jpg                     2020-10-13 20:49:08       714054\n",
            "Test/warrior2/00000035.jpg                     2020-10-13 20:49:08       173389\n",
            "Test/warrior2/00000067.jpg                     2020-10-13 20:49:08        60511\n",
            "Test/warrior2/00000014.jpg                     2020-10-13 20:49:08       176767\n",
            "Test/warrior2/00000026.jpg                     2020-10-13 20:49:08        80068\n",
            "Test/warrior2/00000078.jpg                     2020-10-13 20:49:08        61426\n",
            "Test/warrior2/00000071.png                     2020-10-13 20:49:08       278163\n",
            "Test/warrior2/00000110.jpg                     2020-10-13 20:49:08        14295\n",
            "Test/warrior2/00000087.jpg                     2020-10-13 20:49:08       104528\n",
            "Test/warrior2/00000061.jpg                     2020-10-13 20:49:08        27127\n",
            "Test/warrior2/00000007.png                     2020-10-13 20:49:08       849996\n",
            "Test/warrior2/00000096.jpg                     2020-10-13 20:49:08        40108\n",
            "Test/warrior2/00000039.png                     2020-10-13 20:49:08        69893\n",
            "Test/warrior2/00000117.jpg                     2020-10-13 20:49:08        41843\n",
            "Test/warrior2/00000029.jpg                     2020-10-13 20:49:08        89838\n",
            "Test/warrior2/00000073.jpg                     2020-10-13 20:49:08        33392\n",
            "Test/warrior2/00000060.jpg                     2020-10-13 20:49:08       194007\n",
            "Test/warrior2/00000017.jpg                     2020-10-13 20:49:08        60556\n",
            "Test/warrior2/00000037.jpg                     2020-10-13 20:49:08        59819\n",
            "Test/plank/00000087.jpg                        2020-10-13 20:49:02        31558\n",
            "Test/plank/00000078.jpg                        2020-10-13 20:49:02        26872\n",
            "Test/plank/00000081.jpg                        2020-10-13 20:49:02        34969\n",
            "Test/plank/00000126.jpg                        2020-10-13 20:49:02       157348\n",
            "Test/plank/00000061.jpg                        2020-10-13 20:49:02       149592\n",
            "Test/plank/00000101.jpg                        2020-10-13 20:49:02        89262\n",
            "Test/plank/00000055.jpg                        2020-10-13 20:49:02        22492\n",
            "Test/plank/00000116.png                        2020-10-13 20:49:02       175643\n",
            "Test/plank/00000040.jpg                        2020-10-13 20:49:02       149592\n",
            "Test/plank/00000044.jpg                        2020-10-13 20:49:02       230817\n",
            "Test/plank/00000068.jpg                        2020-10-13 20:49:02        19616\n",
            "Test/plank/00000050.png                        2020-10-13 20:49:02       345098\n",
            "Test/plank/00000113.jpg                        2020-10-13 20:49:02        80644\n",
            "Test/plank/00000122.jpg                        2020-10-13 20:49:02        22600\n",
            "Test/plank/00000059.jpg                        2020-10-13 20:49:02        18296\n",
            "Test/plank/00000073.jpg                        2020-10-13 20:49:02        81639\n",
            "Test/plank/00000119.jpg                        2020-10-13 20:49:02       255714\n",
            "Test/plank/00000106.jpg                        2020-10-13 20:49:02        81430\n",
            "Test/plank/00000043.jpg                        2020-10-13 20:49:02        18296\n",
            "Test/plank/00000118.jpg                        2020-10-13 20:49:02        21131\n",
            "Test/plank/00000127.jpg                        2020-10-13 20:49:02        48127\n",
            "Test/plank/00000076.jpg                        2020-10-13 20:49:02        63496\n",
            "Test/plank/00000097.jpg                        2020-10-13 20:49:02        81639\n",
            "Test/plank/00000074.jpg                        2020-10-13 20:49:02        16626\n",
            "Test/warrior2/00000086.jpg                     2020-10-13 20:49:08       380333\n",
            "Test/goddess/00000081.jpg                      2020-10-13 20:49:00       167526\n",
            "Test/goddess/00000062.jpg                      2020-10-13 20:49:00       182850\n",
            "Test/plank/00000088.jpg                        2020-10-13 20:49:02       859162\n",
            "Test/goddess/00000077.jpg                      2020-10-13 20:49:00        25990\n",
            "Test/goddess/00000050.jpg                      2020-10-13 20:49:00        85719\n",
            "Test/goddess/00000018.jpg                      2020-10-13 20:49:00        13672\n",
            "Test/goddess/00000042.jpg                      2020-10-13 20:49:00        34541\n",
            "Test/goddess/00000052.jpg                      2020-10-13 20:49:00        16724\n",
            "Test/goddess/00000029.jpg                      2020-10-13 20:49:00        33454\n",
            "Test/goddess/00000013.jpg                      2020-10-13 20:49:00        18605\n",
            "Test/goddess/00000091.jpg                      2020-10-13 20:49:00        24567\n",
            "Test/goddess/00000049.jpg                      2020-10-13 20:49:00       788670\n",
            "Test/goddess/00000073.jpg                      2020-10-13 20:49:00        67823\n",
            "Test/goddess/00000093.jpg                      2020-10-13 20:49:00        29922\n",
            "Test/goddess/00000072.jpg                      2020-10-13 20:49:00        29922\n",
            "Test/goddess/00000005.jpg                      2020-10-13 20:49:00        39726\n",
            "Test/goddess/00000058.jpg                      2020-10-13 20:49:00        82074\n",
            "Test/goddess/00000055.jpg                      2020-10-13 20:49:00       285876\n",
            "Test/goddess/00000085.jpg                      2020-10-13 20:49:00       132186\n",
            "Test/tree/00000010.jpg                         2020-10-13 20:49:02        23946\n",
            "Test/goddess/00000011.jpg                      2020-10-13 20:49:00        40205\n",
            "Test/goddess/00000000.jpg                      2020-10-13 20:49:00       110172\n",
            "Test/goddess/00000089.jpg                      2020-10-13 20:49:00        79561\n",
            "Test/goddess/00000016.jpg                      2020-10-13 20:49:00        95505\n",
            "Test/tree/00000015.jpg                         2020-10-13 20:49:02       353604\n",
            "Test/tree/00000003.jpg                         2020-10-13 20:49:02       116516\n",
            "Test/goddess/00000053.png                      2020-10-13 20:49:00       299087\n",
            "Test/tree/00000016.jpg                         2020-10-13 20:49:02        58084\n",
            "Test/goddess/00000056.jpg                      2020-10-13 20:49:00        25444\n",
            "Test/goddess/00000030.jpg                      2020-10-13 20:49:00      2441127\n",
            "Test/tree/00000012.jpg                         2020-10-13 20:49:02       172097\n",
            "Test/tree/00000011.jpg                         2020-10-13 20:49:02        32378\n",
            "Test/tree/00000001.jpg                         2020-10-13 20:49:02        61965\n",
            "Test/tree/00000005.jpg                         2020-10-13 20:49:02       254821\n",
            "Test/tree/00000013.jpg                         2020-10-13 20:49:02       164390\n",
            "Test/tree/00000002.jpg                         2020-10-13 20:49:02       500836\n",
            "Test/tree/00000018.jpg                         2020-10-13 20:49:02        28874\n",
            "Test/tree/00000009.JPG                         2020-10-13 20:49:02      1524603\n",
            "Test/tree/00000014.jpg                         2020-10-13 20:49:02        19055\n",
            "Test/tree/00000008.jpg                         2020-10-13 20:49:02        75769\n",
            "Test/tree/00000000.jpg                         2020-10-13 20:49:02       232136\n",
            "Test/tree/00000017.jpg                         2020-10-13 20:49:02       143159\n",
            "Test/tree/00000007.jpg                         2020-10-13 20:49:02        88001\n",
            "Test/downdog/00000084.jpg                      2020-10-13 20:48:58        11820\n",
            "Test/downdog/00000039.jpg                      2020-10-13 20:48:58        24854\n",
            "Test/downdog/00000054.jpg                      2020-10-13 20:48:58        84537\n",
            "Test/downdog/00000029.jpg                      2020-10-13 20:48:58        43708\n",
            "Test/downdog/00000074.jpg                      2020-10-13 20:48:58        66090\n",
            "Test/tree/00000006.jpg                         2020-10-13 20:49:02       622407\n",
            "Test/tree/00000004.jpg                         2020-10-13 20:49:02        81566\n",
            "Test/downdog/00000101.jpg                      2020-10-13 20:48:58        39130\n",
            "Test/downdog/00000056.JPG                      2020-10-13 20:48:58       589672\n",
            "Test/downdog/00000088.JPG                      2020-10-13 20:48:58       589672\n",
            "Test/downdog/00000045.jpg                      2020-10-13 20:48:58       107676\n",
            "Test/downdog/00000043.jpg                      2020-10-13 20:48:58       971630\n",
            "Test/downdog/00000102.png                      2020-10-13 20:48:58        12775\n",
            "Test/downdog/00000013.jpg                      2020-10-13 20:48:58       624157\n",
            "Test/downdog/00000097.jpg                      2020-10-13 20:48:58        93397\n",
            "Test/downdog/00000038.jpg                      2020-10-13 20:48:58       217111\n",
            "Test/downdog/00000059.jpg                      2020-10-13 20:48:58        70156\n",
            "Test/downdog/00000042.jpg                      2020-10-13 20:48:58       101519\n",
            "Test/downdog/00000090.jpg                      2020-10-13 20:48:58       253656\n",
            "Test/downdog/00000089.jpg                      2020-10-13 20:48:58        54386\n",
            "Test/downdog/00000031.jpg                      2020-10-13 20:48:58       107676\n",
            "Test/downdog/00000016.jpg                      2020-10-13 20:48:58        47033\n",
            "Test/downdog/00000035.jpg                      2020-10-13 20:48:58       101519\n",
            "Test/downdog/00000055.jpg                      2020-10-13 20:48:58        68090\n",
            "Test/downdog/00000027.jpg                      2020-10-13 20:48:58        13408\n",
            "Test/warrior2/00000006.png                     2020-10-13 20:49:08       484194\n",
            "Test/downdog/00000024.jpg                      2020-10-13 20:48:58        98810\n",
            "Test/warrior2/00000001.jpg                     2020-10-13 20:49:08        49472\n",
            "Test/downdog/00000032.jpg                      2020-10-13 20:48:58       304526\n",
            "Test/warrior2/00000048.jpg                     2020-10-13 20:49:08        61426\n",
            "Test/warrior2/00000023.jpg                     2020-10-13 20:49:08      1427230\n",
            "Test/warrior2/00000065.jpg                     2020-10-13 20:49:08       136369\n",
            "Test/warrior2/00000062.jpg                     2020-10-13 20:49:08        94064\n",
            "Test/warrior2/00000089.jpg                     2020-10-13 20:49:08        14626\n",
            "Test/warrior2/00000008.jpg                     2020-10-13 20:49:08        51857\n",
            "Test/warrior2/00000102.jpg                     2020-10-13 20:49:08        41843\n",
            "Test/warrior2/00000068.jpg                     2020-10-13 20:49:08        14295\n",
            "Test/warrior2/00000041.jpg                     2020-10-13 20:49:08      1427230\n",
            "Test/warrior2/00000081.jpg                     2020-10-13 20:49:08       136369\n",
            "Test/warrior2/00000031.jpg                     2020-10-13 20:49:08        71436\n",
            "Test/warrior2/00000064.jpg                     2020-10-13 20:49:08        51796\n",
            "Test/warrior2/00000050.jpg                     2020-10-13 20:49:08        68529\n",
            "Test/warrior2/00000083.png                     2020-10-13 20:49:08       286525\n",
            "Test/warrior2/00000038.jpg                     2020-10-13 20:49:08        33392\n",
            "Test/warrior2/00000116.jpg                     2020-10-13 20:49:08       680761\n",
            "Test/warrior2/00000049.jpg                     2020-10-13 20:49:08        53195\n",
            "Test/warrior2/00000032.jpg                     2020-10-13 20:49:08       240361\n",
            "Test/warrior2/00000004.jpg                     2020-10-13 20:49:08       481938\n",
            "Test/warrior2/00000075.jpg                     2020-10-13 20:49:08        42121\n",
            "Test/warrior2/00000046.jpg                     2020-10-13 20:49:08        31371\n",
            "Test/plank/00000108.jpg                        2020-10-13 20:49:02        43009\n",
            "Test/plank/00000093.jpg                        2020-10-13 20:49:02        44424\n",
            "Test/plank/00000075.png                        2020-10-13 20:49:02       227136\n",
            "Test/plank/00000060.jpg                        2020-10-13 20:49:02       407223\n",
            "Test/plank/00000100.jpg                        2020-10-13 20:49:02        11624\n",
            "Test/plank/00000092.png                        2020-10-13 20:49:02       227136\n",
            "Test/plank/00000115.jpg                        2020-10-13 20:49:02        19647\n",
            "Test/plank/00000090.png                        2020-10-13 20:49:02        59201\n",
            "Test/tree/00000033.jpg                         2020-10-13 20:49:06        65389\n",
            "Test/warrior2/00000070.jpg                     2020-10-13 20:49:08       100073\n",
            "Test/downdog/00000083.jpg                      2020-10-13 20:48:58      1831375\n",
            "Test/warrior2/00000005.jpg                     2020-10-13 20:49:08       102938\n",
            "Test/goddess/00000041.jpg                      2020-10-13 20:49:00        30893\n",
            "Test/warrior2/00000051.jpg                     2020-10-13 20:49:08        42121\n",
            "Test/plank/00000032.jpg                        2020-10-13 20:49:02        28531\n",
            "Test/plank/00000034.jpg                        2020-10-13 20:49:02        92861\n",
            "Test/plank/00000095.jpg                        2020-10-13 20:49:02        60492\n",
            "Test/plank/00000031.jpg                        2020-10-13 20:49:02        83998\n",
            "Test/plank/00000030.jpg                        2020-10-13 20:49:02        42196\n",
            "Test/plank/00000066.jpg                        2020-10-13 20:49:02        41111\n",
            "Test/plank/00000105.png                        2020-10-13 20:49:02        48997\n",
            "Test/plank/00000096.jpg                        2020-10-13 20:49:02        55489\n",
            "Test/plank/00000021.jpg                        2020-10-13 20:49:02        29274\n",
            "Test/plank/00000069.jpg                        2020-10-13 20:49:02       101604\n",
            "Test/plank/00000098.jpg                        2020-10-13 20:49:02      3618612\n",
            "Test/plank/00000037.jpg                        2020-10-13 20:49:02       503665\n",
            "Test/plank/00000085.jpg                        2020-10-13 20:49:02        19616\n",
            "Test/goddess/00000045.jpg                      2020-10-13 20:49:00        38249\n",
            "Test/plank/00000079.png                        2020-10-13 20:49:02        48997\n",
            "Test/plank/00000114.png                        2020-10-13 20:49:02        10966\n",
            "Test/goddess/00000009.jpg                      2020-10-13 20:49:00        34627\n",
            "Test/goddess/00000004.jpg                      2020-10-13 20:49:00       195686\n",
            "Test/goddess/00000088.jpg                      2020-10-13 20:49:00        15179\n",
            "Test/goddess/00000010.jpg                      2020-10-13 20:49:00       103738\n",
            "Test/goddess/00000086.jpg                      2020-10-13 20:49:00        28522\n",
            "Test/goddess/00000032.jpeg                     2020-10-13 20:49:00        43670\n",
            "Test/goddess/00000095.jpeg                     2020-10-13 20:49:00        53752\n",
            "Test/goddess/00000025.jpg                      2020-10-13 20:49:00        30429\n",
            "Test/goddess/00000039.jpg                      2020-10-13 20:49:00        16724\n",
            "Test/goddess/00000080.jpg                      2020-10-13 20:49:00        38647\n",
            "Test/goddess/00000067.jpg                      2020-10-13 20:49:00        91675\n",
            "Test/goddess/00000031.jpg                      2020-10-13 20:49:00        11705\n",
            "Test/goddess/00000047.png                      2020-10-13 20:49:00       485758\n",
            "Test/goddess/00000034.jpg                      2020-10-13 20:49:00        37547\n",
            "Test/goddess/00000006.png                      2020-10-13 20:49:00      2446715\n",
            "Test/goddess/00000084.jpg                      2020-10-13 20:49:00        91675\n",
            "Test/goddess/00000021.png                      2020-10-13 20:49:00       646316\n",
            "Test/goddess/00000015.jpg                      2020-10-13 20:49:00        82074\n",
            "Test/goddess/00000028.jpg                      2020-10-13 20:49:00        15713\n",
            "Test/goddess/00000008.jpg                      2020-10-13 20:49:00       429505\n",
            "Test/goddess/00000069.jpg                      2020-10-13 20:49:00        42518\n",
            "Test/goddess/00000079.jpg                      2020-10-13 20:49:00        31536\n",
            "Test/downdog/00000046.jpg                      2020-10-13 20:48:58        18541\n",
            "Test/downdog/00000052.jpg                      2020-10-13 20:48:58       118238\n",
            "Test/downdog/00000021.jpg                      2020-10-13 20:48:58        47340\n",
            "Test/goddess/00000007.jpg                      2020-10-13 20:49:00       210183\n",
            "Test/downdog/00000033.jpg                      2020-10-13 20:48:58        18541\n",
            "Test/goddess/00000002.jpeg                     2020-10-13 20:49:00        74907\n",
            "Test/downdog/00000061.jpg                      2020-10-13 20:48:58        99559\n",
            "Test/downdog/00000049.jpg                      2020-10-13 20:48:58        69023\n",
            "Test/downdog/00000014.jpg                      2020-10-13 20:48:58        12596\n",
            "Test/downdog/00000018.jpg                      2020-10-13 20:48:58        26592\n",
            "Test/downdog/00000004.jpg                      2020-10-13 20:48:56        67985\n",
            "Test/downdog/00000006.jpg                      2020-10-13 20:48:56        87373\n",
            "Test/downdog/00000002.jpg                      2020-10-13 20:48:56       142695\n",
            "Test/downdog/00000005.jpg                      2020-10-13 20:48:56       119638\n",
            "Test/downdog/00000010.png                      2020-10-13 20:48:56        27471\n",
            "Test/downdog/00000001.JPG                      2020-10-13 20:48:56       201245\n",
            "Test/downdog/00000011.jpg                      2020-10-13 20:48:56        34425\n",
            "Test/downdog/00000003.jpg                      2020-10-13 20:48:56       131569\n",
            "Test/downdog/00000009.jpg                      2020-10-13 20:48:56       225210\n",
            "Test/downdog/00000007.jpg                      2020-10-13 20:48:56        12149\n",
            "Test/goddess/00000087.jpg                      2020-10-13 20:49:00       182850\n",
            "Test/downdog/00000012.jpg                      2020-10-13 20:48:56       515501\n",
            "Test/goddess/00000023.jpg                      2020-10-13 20:49:00       911315\n",
            "Test/downdog/00000008.jpg                      2020-10-13 20:48:56       240818\n",
            "Test/goddess/00000036.jpg                      2020-10-13 20:49:00        41859\n",
            "Test/goddess/00000024.jpg                      2020-10-13 20:49:00        73007\n",
            "Test/goddess/00000068.jpg                      2020-10-13 20:49:00        43632\n",
            "Test/warrior2/00000066.jpg                     2020-10-13 20:49:08        40222\n",
            "Test/warrior2/00000012.jpg                     2020-10-13 20:49:08        46784\n",
            "Test/warrior2/00000059.jpg                     2020-10-13 20:49:08        28238\n",
            "Test/warrior2/00000107.jpg                     2020-10-13 20:49:08        68529\n",
            "Test/warrior2/00000093.jpg                     2020-10-13 20:49:08        40222\n",
            "Test/warrior2/00000003.jpg                     2020-10-13 20:49:08        26878\n",
            "Test/warrior2/00000045.png                     2020-10-13 20:49:08        31862\n",
            "Test/warrior2/00000009.jpg                     2020-10-13 20:49:08       352087\n",
            "Test/downdog/00000000.jpg                      2020-10-13 20:48:56        53711\n",
            "Test/warrior2/00000100.jpg                     2020-10-13 20:49:08        42683\n",
            "Test/warrior2/00000058.jpg                     2020-10-13 20:49:08        13004\n",
            "Test/warrior2/00000106.png                     2020-10-13 20:49:08       278163\n",
            "Test/warrior2/00000027.jpg                     2020-10-13 20:49:08        39442\n",
            "Test/warrior2/00000043.jpg                     2020-10-13 20:49:08         5829\n",
            "Test/warrior2/00000092.jpg                     2020-10-13 20:49:08        34561\n",
            "Test/warrior2/00000084.jpg                     2020-10-13 20:49:08        53195\n",
            "Test/warrior2/00000101.jpg                     2020-10-13 20:49:08        51847\n",
            "Test/warrior2/00000077.jpg                     2020-10-13 20:49:08        14954\n",
            "Test/warrior2/00000097.jpg                     2020-10-13 20:49:08        28238\n",
            "Test/warrior2/00000002.jpg                     2020-10-13 20:49:08       318160\n",
            "Test/warrior2/00000082.jpg                     2020-10-13 20:49:08        13004\n",
            "Test/warrior2/00000022.jpg                     2020-10-13 20:49:08        59819\n",
            "Test/warrior2/00000104.jpg                     2020-10-13 20:49:08       194007\n",
            "Test/plank/00000047.jpg                        2020-10-13 20:49:02        29083\n",
            "Test/warrior2/00000013.jpg                     2020-10-13 20:49:08       815765\n",
            "Test/plank/00000072.jpg                        2020-10-13 20:49:02        34969\n",
            "Test/plank/00000071.jpg                        2020-10-13 20:49:02         3383\n",
            "Test/plank/00000056.jpg                        2020-10-13 20:49:02        92861\n",
            "Test/plank/00000103.jpg                        2020-10-13 20:49:02       647010\n",
            "Test/plank/00000124.jpg                        2020-10-13 20:49:02         6253\n",
            "Test/warrior2/00000016.jpg                     2020-10-13 20:49:08        36747\n",
            "Test/plank/00000083.jpeg                       2020-10-13 20:49:02        89281\n",
            "Test/plank/00000024.jpg                        2020-10-13 20:49:02       866556\n",
            "Test/plank/00000064.jpg                        2020-10-13 20:49:02        83242\n",
            "Test/plank/00000110.jpg                        2020-10-13 20:49:02        95655\n",
            "Test/plank/00000082.jpg                        2020-10-13 20:49:02        20016\n",
            "Test/plank/00000084.jpg                        2020-10-13 20:49:02        29551\n",
            "Test/plank/00000123.jpg                        2020-10-13 20:49:02      3618612\n",
            "Test/plank/00000029.jpg                        2020-10-13 20:49:02       342321\n",
            "Test/plank/00000033.jpg                        2020-10-13 20:49:02       764503\n",
            "Test/plank/00000091.jpg                        2020-10-13 20:49:02        26872\n",
            "Test/plank/00000089.jpg                        2020-10-13 20:49:02       157905\n",
            "Test/plank/00000027.JPG                        2020-10-13 20:49:02       214428\n",
            "Test/plank/00000109.jpg                        2020-10-13 20:49:02       193528\n",
            "Test/plank/00000102.jpg                        2020-10-13 20:49:02        63496\n",
            "Test/plank/00000028.jpg                        2020-10-13 20:49:02       230817\n",
            "Test/warrior2/00000090.jpg                     2020-10-13 20:49:08        41669\n",
            "Test/plank/00000077.jpg                        2020-10-13 20:49:02        40387\n",
            "Test/warrior2/00000052.jpg                     2020-10-13 20:49:08       104528\n",
            "Test/plank/00000016.jpg                        2020-10-13 20:49:00        55337\n",
            "Test/plank/00000020.jpg                        2020-10-13 20:49:02        20711\n",
            "Test/warrior2/00000021.jpg                     2020-10-13 20:49:08        46943\n",
            "Test/plank/00000011.jpg                        2020-10-13 20:49:00         9799\n",
            "Test/warrior2/00000047.jpg                     2020-10-13 20:49:08        61830\n",
            "Test/plank/00000015.jpg                        2020-10-13 20:49:00        48371\n",
            "Test/plank/00000005.jpg                        2020-10-13 20:49:00       334592\n",
            "Test/plank/00000004.JPG                        2020-10-13 20:49:00       273865\n",
            "Test/warrior2/00000020.jpg                     2020-10-13 20:49:08        28789\n",
            "Test/plank/00000017.jpg                        2020-10-13 20:49:00        49833\n",
            "Test/warrior2/00000113.jpg                     2020-10-13 20:49:08        37501\n",
            "Test/warrior2/00000033.jpg                     2020-10-13 20:49:08        59779\n",
            "Test/warrior2/00000080.jpg                     2020-10-13 20:49:08       120715\n",
            "Test/warrior2/00000115.png                     2020-10-13 20:49:08       132393\n",
            "Test/plank/00000019.jpg                        2020-10-13 20:49:00       351108\n",
            "Test/plank/00000012.jpg                        2020-10-13 20:49:00       192751\n",
            "Test/plank/00000008.jpg                        2020-10-13 20:49:00        39010\n",
            "Test/plank/00000002.jpg                        2020-10-13 20:49:00       173281\n",
            "Test/plank/00000001.jpg                        2020-10-13 20:49:00        34765\n",
            "Test/plank/00000010.jpg                        2020-10-13 20:49:00       360636\n",
            "Test/plank/00000000.jpg                        2020-10-13 20:49:00        28099\n",
            "Test/plank/00000014.jpg                        2020-10-13 20:49:00       823793\n",
            "Test/plank/00000013.jpg                        2020-10-13 20:49:00       466145\n",
            "Test/plank/00000007.jpg                        2020-10-13 20:49:00        45906\n",
            "Test/plank/00000006.JPG                        2020-10-13 20:49:00      2200909\n",
            "Test/plank/00000018.jpg                        2020-10-13 20:49:00       759372\n",
            "Test/warrior2/00000105.jpg                     2020-10-13 20:49:08        27127\n",
            "Test/downdog/00000047.jpg                      2020-10-13 20:48:58      1831375\n",
            "Test/plank/00000120.png                        2020-10-13 20:49:02        59201\n",
            "Extracting all the files now...\n",
            "Done!\n"
          ],
          "name": "stdout"
        }
      ]
    },
    {
      "cell_type": "code",
      "metadata": {
        "id": "mdQ9lXYnXvkz"
      },
      "source": [
        "plt.rcParams['figure.figsize'] = 12, 8\n",
        "plt.rcParams.update({'font.size': 14})\n",
        "\n",
        "# Model paths: single person pose classification\n",
        "model_path = 'https://tfhub.dev/google/movenet/singlepose/thunder/3'  # Larger version\n",
        "model_path_light = 'https://tfhub.dev/google/movenet/singlepose/lightning/3'  # Lighter version\n",
        "\n",
        "\n",
        "\n",
        "# Directory containing 107 subfolders with images\n",
        "data_directory_path = '/content/Test'\n",
        "\n",
        "# TensorFlow settings\n",
        "AUTOTUNE = tf.data.experimental.AUTOTUNE\n",
        "IMG_SIZE = 256\n",
        "IMG_SIZE_LIGHT = 192\n",
        "BATCH_SIZE = 32\n",
        "\n"
      ],
      "execution_count": 5,
      "outputs": []
    },
    {
      "cell_type": "code",
      "metadata": {
        "id": "TXe6BUlIYaog"
      },
      "source": [
        "kp_descriptions = [\n",
        "    'nose', 'left_eye', 'right_eye', 'left_ear', 'right_ear',\n",
        "    'left_shoulder', 'right_shoulder', 'left_elbow', 'right_elbow',\n",
        "    'left_wrist', 'right_wrist', 'left_hip', 'right_hip',\n",
        "    'left_knee', 'right_knee', 'left_ankle', 'right_ankle'\n",
        "]"
      ],
      "execution_count": 6,
      "outputs": []
    },
    {
      "cell_type": "markdown",
      "metadata": {
        "id": "KM70q4Gwv4FJ"
      },
      "source": [
        "Function Defination"
      ]
    },
    {
      "cell_type": "code",
      "metadata": {
        "id": "27EkamcdYn8r"
      },
      "source": [
        "def get_image(path: str, flip=False) -> tf.Tensor:\n",
        "    \"\"\"Function loads image from a file and resizes it.\n",
        "    :param path: Path to image file\n",
        "    :param flip: Optional argument indicating whether to flip the image left to right\n",
        "    :return: Tensor with resized image data\n",
        "    \"\"\"\n",
        "    image = tf.expand_dims(tf.compat.v1.image.decode_jpeg(\n",
        "        tf.io.read_file(path), channels=3), axis=0)\n",
        "    if flip:\n",
        "        image = tf.image.flip_left_right(image)\n",
        "    # Resize and pad the image to keep the aspect ratio and fit the expected size\n",
        "    image = tf.cast(tf.image.resize_with_pad(image, IMG_SIZE_LIGHT, IMG_SIZE_LIGHT), dtype=tf.int32)\n",
        "    return image\n",
        "\n",
        "\n",
        "def configure_for_performance(ds: tf.data.Dataset) -> tf.data.Dataset:\n",
        "    \"\"\"Function applies batch() and prefetch() functions\n",
        "    to the dataset to optimize data processing.\n",
        "    :param ds: TensorFlow Dataset object\n",
        "    :return Batched TensorFlow Dataset object\n",
        "    \"\"\"\n",
        "    ds = ds.batch(BATCH_SIZE)\n",
        "    ds = ds.prefetch(buffer_size=AUTOTUNE).cache()\n",
        "    return ds\n",
        "\n",
        "\n",
        "def movenet_inference(model: tf.keras.Model, path: str, flip=False) -> tf.Tensor:\n",
        "    \"\"\"Function transforms an image to a tensor of shape [1, 17, 3]\n",
        "    containing y and x coordinates and confidence level for 17 keypoints.\n",
        "    :param model: movenet model in tensorflow format\n",
        "    :param path: Path to image file\n",
        "    :param flip: Optional argument indicating whether to flip the image left to right\n",
        "    :return: Tensor with data for 17 keypoints\n",
        "    \"\"\"\n",
        "    keypoints = model.inference_fn(get_image(path, flip))[0]\n",
        "    return keypoints\n",
        "\n",
        "\n",
        "def movenet_inference_flat(model: tf.keras.Model, path: str, flip=False) -> np.array:\n",
        "    \"\"\"Function transforms an image to a numpy array shape [51,]\n",
        "    containing y and x coordinates and confidence level for 17 keypoints.\n",
        "    :param model: movenet model in tensorflow format\n",
        "    :param path: Path to image file\n",
        "    :param flip: Optional argument indicating whether to flip the image left to right\n",
        "    :return: 1D array with 51 values\n",
        "    \"\"\"\n",
        "    keypoints = model.inference_fn(get_image(path, flip))[0][0].numpy().flatten()\n",
        "    return keypoints\n",
        "\n",
        "\n",
        "def movenet_serving(model: tf.keras.Model, path: str, flip=False) -> tf.Tensor:\n",
        "    \"\"\"Function transforms an image to a tensor of shape [1, 17, 3]\n",
        "    containing y and x coordinates and confidence level for 17 keypoints.\n",
        "    :param model: Movenet model in tensorflow format\n",
        "    :param path: Path to image file\n",
        "    :param flip: Optional argument indicating whether to flip the image left to right\n",
        "    :return: Tensor with data for 17 keypoints\n",
        "    \"\"\"\n",
        "    keypoints = model(get_image(path, flip))['output_0'][0]\n",
        "    return keypoints\n",
        "\n",
        "\n",
        "def movenet_serving_flat(model: tf.keras.Model, path: str, flip=False) -> np.array:\n",
        "    \"\"\"Function transforms an image to a numpy array shape [51,]\n",
        "    containing y and x coordinates and confidence level for 17 keypoints.\n",
        "    :param model: Movenet model in tensorflow format\n",
        "    :param path: Path to image file\n",
        "    :param flip: Optional argument indicating whether to flip the image left to right\n",
        "    :return: 1D array with 51 values\n",
        "    \"\"\"\n",
        "    keypoints = model(get_image(path, flip))['output_0'][0][0].numpy().flatten()\n",
        "    return keypoints\n",
        "\n",
        "\n",
        "def display_images():\n",
        "    \"\"\"Function displays 100 examples of images\n",
        "    belonging to different classes in 5 x 5 grids.\n",
        "    \"\"\"\n",
        "    nrows = ncols = 5\n",
        "    class_n = 0\n",
        "\n",
        "    for pose in classes_df['pose'].unique():\n",
        "\n",
        "        if class_n > 100:\n",
        "            break\n",
        "\n",
        "        class_n += 1\n",
        "\n",
        "        if class_n % 25 == 1:\n",
        "            fig = plt.gcf()\n",
        "            fig.set_size_inches(ncols * 2.7, nrows * 2.7)\n",
        "\n",
        "        image_path = classes_df[classes_df['pose'] == pose]['path'].iloc[0]\n",
        "        image = mpimg.imread(image_path)\n",
        "        plt.subplot(nrows, ncols, class_n % 25 + 1)\n",
        "        plt.imshow(image)\n",
        "        plt.axis('Off')\n",
        "        plt.title(pose)\n",
        "\n",
        "        if class_n % 25 == 1 and class_n != 1:\n",
        "            plt.show()\n",
        "\n",
        "\n",
        "def display_keypoints(path: str, points: tf.Tensor):\n",
        "    \"\"\"Function displays an image with marked keypoints.\n",
        "    :param path: Path to the image file\n",
        "    :param points: Tensor of keypoints in the shapes of [17, 3],\n",
        "    where 0-th column contains y coordinates, 1st column - x coordinates,\n",
        "    2nd column - confidence score\n",
        "    \"\"\"\n",
        "    # Convert coordinates from range [0, 1] to absolute positions\n",
        "    y = points[:, 0] * IMG_SIZE_LIGHT\n",
        "    x = points[:, 1] * IMG_SIZE_LIGHT\n",
        "\n",
        "    # Read image from file and resize with padding\n",
        "    image = tf.compat.v1.image.decode_jpeg(tf.io.read_file(path), channels=3)\n",
        "    image = tf.image.resize_with_pad(image, IMG_SIZE_LIGHT, IMG_SIZE_LIGHT)\n",
        "    image = tf.cast(image, dtype=tf.uint8)\n",
        "\n",
        "    plt.imshow(image)\n",
        "    plt.scatter(x, y)\n",
        "    plt.axis('Off')\n",
        "    plt.show()\n",
        "\n",
        "\n",
        "def distance(coordinates: np.array) -> tuple:\n",
        "    \"\"\"Function calculates distance between two keypoints\n",
        "    described by x and y coordinates relative to image size.\n",
        "    :param coordinates: Array with 4 values [x coordinate of the 1st keypoint,\n",
        "    y coordinate of the 1st keypoint, x coordinate of the 2nd keypoint,\n",
        "    y coordinate of the 2nd keypoint]\n",
        "    :return: Tuple with 3 values [Euclidean distance between two points,\n",
        "    distance between x coordinates, distance between y coordinates]\n",
        "    \"\"\"\n",
        "    x_1, y_1, x_2, y_2 = coordinates\n",
        "    hor_dist = abs(x_1 - x_2)\n",
        "    vert_dist = abs(y_1 - y_2)\n",
        "    dist = np.sqrt(hor_dist ** 2 + vert_dist ** 2)\n",
        "    return dist, hor_dist, vert_dist\n",
        "\n",
        "\n",
        "def is_higher(coordinates: np.array) -> int:\n",
        "    \"\"\"Function identifies relative positions\n",
        "    of two y coordinates in vertical direction.\n",
        "    :param coordinates: Array with 2 values [y coordinate of the 1st keypoint,\n",
        "    y coordinate of the 2nd keypoint]\n",
        "    :return: Binary value (1 - if the 1st coordinate is higher than 2nd,\n",
        "    0 - if the 1st coordinate is lower than 2nd coordinate)\n",
        "    \"\"\"\n",
        "    y_1, y_2 = coordinates\n",
        "    res = int((y_1 - y_2) > 0)\n",
        "    return res\n",
        "\n",
        "\n",
        "def add_pos_features(df: pd.DataFrame, drop_scores=False) -> pd.DataFrame:\n",
        "    \"\"\"Function creates positional features based on keypoints.\n",
        "    :param df: DataFrame with keypoints (x and y coordinates)\n",
        "    :param drop_scores: Optional argument specifying whether to drop confidence scores\n",
        "    :return: Updated DataFrame\n",
        "    \"\"\"\n",
        "    # Distance between left and right points in pairs of limbs\n",
        "    # relative to image size (Euclidean, horizontal and vertical)\n",
        "    for point_type in ('elbow', 'wrist', 'knee', 'ankle'):\n",
        "        d = np.apply_along_axis(\n",
        "            distance, 1, df[[\n",
        "                f'left_{point_type}_x', f'left_{point_type}_y',\n",
        "                f'right_{point_type}_x', f'right_{point_type}_y'\n",
        "            ]].values)\n",
        "        df[f'{point_type}s_dist'], df[f'{point_type}s_hor_dist'], \\\n",
        "        df[f'{point_type}s_vert_dist'] = d.transpose()\n",
        "\n",
        "    # Distance between specific keypoint pairs\n",
        "    for point_1, point_2 in [('wrist', 'ankle'), ('wrist', 'knee'),\n",
        "                             ('wrist', 'hip'), ('wrist', 'elbow'),\n",
        "                             ('wrist', 'shoulder'), ('wrist', 'ear'),\n",
        "                             ('ankle', 'hip'), ('ankle', 'ear'),\n",
        "                             ('elbow', 'knee'), ('knee', 'hip')]:\n",
        "        for side_1 in ('left', 'right'):\n",
        "            for side_2 in ('left', 'right'):\n",
        "                d = np.apply_along_axis(\n",
        "                    distance, 1, df[[\n",
        "                        f'{side_1}_{point_1}_x', f'{side_1}_{point_1}_y',\n",
        "                        f'{side_2}_{point_2}_x', f'{side_2}_{point_2}_y'\n",
        "                    ]].values)\n",
        "                df[f'{side_1}_{point_1}_{side_2}_{point_2}_dist'], \\\n",
        "                df[f'{side_1}_{point_1}_{side_2}_{point_2}_hor_dist'], \\\n",
        "                df[f'{side_1}_{point_1}_{side_2}_{point_2}_vert_dist'] = d.transpose()\n",
        "\n",
        "    # Relative upper / lower positions of specific keypoints (binary values: 0/1)\n",
        "    for point_1, point_2 in combinations(['ear', 'hip', 'knee', 'ankle', 'wrist', 'elbow'], 2):\n",
        "        for side_1 in ('left', 'right'):\n",
        "            for side_2 in ('left', 'right'):\n",
        "                df[f'{side_1}_{point_1}_{side_2}_{point_2}'] = np.apply_along_axis(\n",
        "                    is_higher, 1, df[[\n",
        "                        f'{side_1}_{point_1}_y', f'{side_2}_{point_2}_y'\n",
        "                    ]].values)\n",
        "\n",
        "    if drop_scores:\n",
        "        columns = filter(lambda x: x.find('score') == -1, df.columns)\n",
        "        df = df[columns]\n",
        "\n",
        "    print('Positional features added. DataFrame shape:', df.shape)\n",
        "\n",
        "    return df\n",
        "\n",
        "\n",
        "\n",
        "\n",
        "\n",
        "\n",
        "def plot_history(hist):\n",
        "    \"\"\"Function plots a chart with training and validation metrics.\n",
        "    :param hist: Tensorflow history object from model.fit()\n",
        "    \"\"\"\n",
        "    # Losses and metrics\n",
        "    loss = hist.history['loss']\n",
        "    val_loss = hist.history['val_loss']\n",
        "    acc = hist.history['sparse_categorical_accuracy']\n",
        "    val_acc = hist.history['val_sparse_categorical_accuracy']\n",
        "\n",
        "    # Epochs to plot along x axis\n",
        "    x_axis = range(1, len(loss) + 1)\n",
        "\n",
        "    fig, (ax1, ax2) = plt.subplots(nrows=2, ncols=1, sharex=True)\n",
        "\n",
        "    ax1.plot(x_axis, loss, 'bo', label='Training')\n",
        "    ax1.plot(x_axis, val_loss, 'ro', label='Validation')\n",
        "    ax1.set_title('Categorical crossentropy')\n",
        "    ax1.set_ylabel('Loss')\n",
        "    ax1.legend()\n",
        "\n",
        "    ax2.plot(x_axis, acc, 'bo', label='Training')\n",
        "    ax2.plot(x_axis, val_acc, 'ro', label='Validation')\n",
        "    ax2.set_title('Categorical accuracy')\n",
        "    ax2.set_xlabel('Epochs')\n",
        "    ax2.set_ylabel('Accuracy')\n",
        "    ax2.legend()\n",
        "\n",
        "    plt.tight_layout()\n",
        "    plt.show()\n",
        "\n"
      ],
      "execution_count": 46,
      "outputs": []
    },
    {
      "cell_type": "code",
      "metadata": {
        "colab": {
          "base_uri": "https://localhost:8080/"
        },
        "id": "pmRjVi1sZ45B",
        "outputId": "6997094b-d5ae-4d56-d77f-3b5e1b46ecde"
      },
      "source": [
        "#Create a DataFrame with 3 columns: image path, class name and class label\n",
        "image_paths = glob.glob(f'{data_directory_path}/*/*.*')\n",
        "classes_df = pd.DataFrame({'path': list(image_paths)})\n",
        "classes_df['pose'] = classes_df['path'].apply(lambda x: x.split('/')[-2])\n",
        "classes_df['label'] = LabelEncoder().fit_transform(classes_df['pose'])\n",
        "print(f'DataFrame shape: {classes_df.shape}')\n",
        "print(classes_df.head())\n"
      ],
      "execution_count": 47,
      "outputs": [
        {
          "output_type": "stream",
          "text": [
            "DataFrame shape: (470, 3)\n",
            "                                 path     pose  label\n",
            "0  /content/Test/goddess/00000082.jpg  goddess      1\n",
            "1  /content/Test/goddess/00000060.jpg  goddess      1\n",
            "2  /content/Test/goddess/00000056.jpg  goddess      1\n",
            "3  /content/Test/goddess/00000052.jpg  goddess      1\n",
            "4  /content/Test/goddess/00000003.jpg  goddess      1\n"
          ],
          "name": "stdout"
        }
      ]
    },
    {
      "cell_type": "code",
      "metadata": {
        "colab": {
          "base_uri": "https://localhost:8080/",
          "height": 329
        },
        "id": "xK0vAbnVgSTj",
        "outputId": "314fd8a8-d0d4-4ff2-fcca-c46cd3535e8d"
      },
      "source": [
        "# Display examples of images\n",
        "display_images()"
      ],
      "execution_count": 49,
      "outputs": [
        {
          "output_type": "display_data",
          "data": {
            "image/png": "[encoded data removed]",
            "text/plain": [
              "<Figure size 972x972 with 5 Axes>"
            ]
          },
          "metadata": {
            "tags": [],
            "needs_background": "light"
          }
        }
      ]
    },
    {
      "cell_type": "code",
      "metadata": {
        "id": "O_ZRcrWMadTy"
      },
      "source": [
        "hub_model = hub.load(model_path_light)\n",
        "movenet = hub_model.signatures['serving_default']"
      ],
      "execution_count": 50,
      "outputs": []
    },
    {
      "cell_type": "code",
      "metadata": {
        "colab": {
          "base_uri": "https://localhost:8080/"
        },
        "id": "Y6-Tm0k2anHp",
        "outputId": "8cadd796-3bcc-4375-fddb-9143b9cefb79"
      },
      "source": [
        "example_path = classes_df['path'][0]\n",
        "example_image = get_image(example_path)\n",
        "outputs = movenet(example_image)\n",
        "print(outputs)"
      ],
      "execution_count": 51,
      "outputs": [
        {
          "output_type": "stream",
          "text": [
            "{'output_0': <tf.Tensor: shape=(1, 1, 17, 3), dtype=float32, numpy=\n",
            "array([[[[0.24168634, 0.48963892, 0.779674  ],\n",
            "         [0.23224664, 0.50463897, 0.67943215],\n",
            "         [0.231836  , 0.47444236, 0.6008601 ],\n",
            "         [0.25744244, 0.5227222 , 0.6632769 ],\n",
            "         [0.26257718, 0.45063335, 0.8558693 ],\n",
            "         [0.32109597, 0.55380404, 0.8761698 ],\n",
            "         [0.32837528, 0.4264508 , 0.85695165],\n",
            "         [0.20436971, 0.6058769 , 0.7368477 ],\n",
            "         [0.20092684, 0.38126203, 0.8022048 ],\n",
            "         [0.09874439, 0.5350008 , 0.7515712 ],\n",
            "         [0.09732993, 0.44612306, 0.70538414],\n",
            "         [0.5791855 , 0.54505295, 0.7335821 ],\n",
            "         [0.5810286 , 0.44269967, 0.7357811 ],\n",
            "         [0.6864142 , 0.70688987, 0.9345882 ],\n",
            "         [0.6928811 , 0.28971323, 0.84185815],\n",
            "         [0.84831893, 0.7123922 , 0.9049926 ],\n",
            "         [0.8550657 , 0.27613783, 0.93200195]]]], dtype=float32)>}\n"
          ],
          "name": "stdout"
        }
      ]
    },
    {
      "cell_type": "code",
      "metadata": {
        "colab": {
          "base_uri": "https://localhost:8080/"
        },
        "id": "xLuTa0nGatmU",
        "outputId": "eaedd209-d28d-4596-e5be-20e8376df300"
      },
      "source": [
        "# Output is a dictionary with [1, 1, 17, 3] tensor.\n",
        "# For each image the model extracts 17 keypoints: y and x coordinates and confidence level.\n",
        "keypoints = outputs['output_0']\n",
        "print(keypoints)"
      ],
      "execution_count": 52,
      "outputs": [
        {
          "output_type": "stream",
          "text": [
            "tf.Tensor(\n",
            "[[[[0.24168634 0.48963892 0.779674  ]\n",
            "   [0.23224664 0.50463897 0.67943215]\n",
            "   [0.231836   0.47444236 0.6008601 ]\n",
            "   [0.25744244 0.5227222  0.6632769 ]\n",
            "   [0.26257718 0.45063335 0.8558693 ]\n",
            "   [0.32109597 0.55380404 0.8761698 ]\n",
            "   [0.32837528 0.4264508  0.85695165]\n",
            "   [0.20436971 0.6058769  0.7368477 ]\n",
            "   [0.20092684 0.38126203 0.8022048 ]\n",
            "   [0.09874439 0.5350008  0.7515712 ]\n",
            "   [0.09732993 0.44612306 0.70538414]\n",
            "   [0.5791855  0.54505295 0.7335821 ]\n",
            "   [0.5810286  0.44269967 0.7357811 ]\n",
            "   [0.6864142  0.70688987 0.9345882 ]\n",
            "   [0.6928811  0.28971323 0.84185815]\n",
            "   [0.84831893 0.7123922  0.9049926 ]\n",
            "   [0.8550657  0.27613783 0.93200195]]]], shape=(1, 1, 17, 3), dtype=float32)\n"
          ],
          "name": "stdout"
        }
      ]
    },
    {
      "cell_type": "markdown",
      "metadata": {
        "id": "bq67ChMPn3vv"
      },
      "source": [
        ""
      ]
    },
    {
      "cell_type": "code",
      "metadata": {
        "colab": {
          "base_uri": "https://localhost:8080/",
          "height": 466
        },
        "id": "7ASYMY3Payfg",
        "outputId": "6ebb1d9d-22c4-4cf8-a4c6-a8ea80a4b996"
      },
      "source": [
        "# Display keypoints superimposed on the image\n",
        "display_keypoints(path=example_path, points=keypoints[0][0])"
      ],
      "execution_count": 53,
      "outputs": [
        {
          "output_type": "display_data",
          "data": {
            "image/png": "[encoded data removed]",
            "text/plain": [
              "<Figure size 864x576 with 1 Axes>"
            ]
          },
          "metadata": {
            "tags": [],
            "needs_background": "light"
          }
        }
      ]
    },
    {
      "cell_type": "code",
      "metadata": {
        "colab": {
          "base_uri": "https://localhost:8080/"
        },
        "id": "PDT-sskva5_b",
        "outputId": "6f1e5c5d-d7e1-46d4-b1d6-efcd0aa51ee9"
      },
      "source": [
        "print(hub_model.inference_fn(example_image))"
      ],
      "execution_count": 54,
      "outputs": [
        {
          "output_type": "stream",
          "text": [
            "tf.Tensor(\n",
            "[[[[0.24168634 0.48963892 0.779674  ]\n",
            "   [0.23224664 0.50463897 0.67943215]\n",
            "   [0.231836   0.47444236 0.6008601 ]\n",
            "   [0.25744244 0.5227222  0.6632769 ]\n",
            "   [0.26257718 0.45063335 0.8558693 ]\n",
            "   [0.32109597 0.55380404 0.8761698 ]\n",
            "   [0.32837528 0.4264508  0.85695165]\n",
            "   [0.20436971 0.6058769  0.7368477 ]\n",
            "   [0.20092684 0.38126203 0.8022048 ]\n",
            "   [0.09874439 0.5350008  0.7515712 ]\n",
            "   [0.09732993 0.44612306 0.70538414]\n",
            "   [0.5791855  0.54505295 0.7335821 ]\n",
            "   [0.5810286  0.44269967 0.7357811 ]\n",
            "   [0.6864142  0.70688987 0.9345882 ]\n",
            "   [0.6928811  0.28971323 0.84185815]\n",
            "   [0.84831893 0.7123922  0.9049926 ]\n",
            "   [0.8550657  0.27613783 0.93200195]]]], shape=(1, 1, 17, 3), dtype=float32)\n"
          ],
          "name": "stdout"
        }
      ]
    },
    {
      "cell_type": "code",
      "metadata": {
        "colab": {
          "base_uri": "https://localhost:8080/"
        },
        "id": "8Lpe8yXRbDgS",
        "outputId": "e5bebda3-4298-4290-cb22-6f2c61dc5a3f"
      },
      "source": [
        "# We can convert model output into a 1D array with 51 columns\n",
        "# representing triplets of values: x, y, confidence\n",
        "print(hub_model.inference_fn(example_image)[0][0].numpy().flatten())"
      ],
      "execution_count": 55,
      "outputs": [
        {
          "output_type": "stream",
          "text": [
            "[0.24168634 0.48963892 0.779674   0.23224664 0.50463897 0.67943215\n",
            " 0.231836   0.47444236 0.6008601  0.25744244 0.5227222  0.6632769\n",
            " 0.26257718 0.45063335 0.8558693  0.32109597 0.55380404 0.8761698\n",
            " 0.32837528 0.4264508  0.85695165 0.20436971 0.6058769  0.7368477\n",
            " 0.20092684 0.38126203 0.8022048  0.09874439 0.5350008  0.7515712\n",
            " 0.09732993 0.44612306 0.70538414 0.5791855  0.54505295 0.7335821\n",
            " 0.5810286  0.44269967 0.7357811  0.6864142  0.70688987 0.9345882\n",
            " 0.6928811  0.28971323 0.84185815 0.84831893 0.7123922  0.9049926\n",
            " 0.8550657  0.27613783 0.93200195]\n"
          ],
          "name": "stdout"
        }
      ]
    },
    {
      "cell_type": "code",
      "metadata": {
        "colab": {
          "base_uri": "https://localhost:8080/"
        },
        "id": "-MCsDKwCbchh",
        "outputId": "cf5ca1e8-545d-4efe-f282-58c47e99678d"
      },
      "source": [
        "# Convert all images into keypoints tensors of shape [51,] and create a list\n",
        "start = time.perf_counter()\n",
        "keypoints = []\n",
        "\n",
        "with concurrent.futures.ThreadPoolExecutor() as executor:\n",
        "    results = [executor.submit(movenet_inference_flat, hub_model, path) for path in classes_df['path']]\n",
        "    for f in tqdm(concurrent.futures.as_completed(results)):\n",
        "        keypoints.append(f.result())\n",
        "\n",
        "finish = time.perf_counter()\n",
        "print(f'Finished in {round(finish - start, 2)} second(s).')\n",
        "\n",
        "keypoints_df = pd.DataFrame(keypoints)\n",
        "print('Original keypoints extracted. Shape:', keypoints_df.shape)\n",
        "\n"
      ],
      "execution_count": 56,
      "outputs": [
        {
          "output_type": "stream",
          "text": [
            "470it [00:20, 23.14it/s]"
          ],
          "name": "stderr"
        },
        {
          "output_type": "stream",
          "text": [
            "Finished in 20.46 second(s).\n",
            "Original keypoints extracted. Shape: (470, 51)\n"
          ],
          "name": "stdout"
        },
        {
          "output_type": "stream",
          "text": [
            "\n"
          ],
          "name": "stderr"
        }
      ]
    },
    {
      "cell_type": "code",
      "metadata": {
        "id": "f40NWo3bijMz",
        "colab": {
          "base_uri": "https://localhost:8080/"
        },
        "outputId": "40a635b6-97d9-402b-b165-eddff1ae4def"
      },
      "source": [
        "#Flipped images\n",
        "start = time.perf_counter()\n",
        "keypoints_fl = []\n",
        "\n",
        "with concurrent.futures.ThreadPoolExecutor() as executor:\n",
        "    results = [executor.submit(movenet_inference_flat, hub_model, path, True) for path in classes_df['path']]\n",
        "    for f in tqdm(concurrent.futures.as_completed(results)):\n",
        "        keypoints_fl.append(f.result())\n",
        "\n",
        "finish = time.perf_counter()\n",
        "print(f'Finished in {round(finish - start, 2)} second(s).')\n",
        "\n",
        "# Create a matrix of all keypoints n_samples x 51 columns\n",
        "keypoints_fl = np.vstack([keypoints + keypoints_fl])\n",
        "keypoints_fl_df = pd.DataFrame(keypoints_fl)\n",
        "print('Original and flipped keypoints extracted. Shape:', keypoints_fl_df.shape)"
      ],
      "execution_count": 18,
      "outputs": [
        {
          "output_type": "stream",
          "text": [
            "470it [00:25, 18.08it/s]"
          ],
          "name": "stderr"
        },
        {
          "output_type": "stream",
          "text": [
            "Finished in 26.14 second(s).\n",
            "Original and flipped keypoints extracted. Shape: (940, 51)\n"
          ],
          "name": "stdout"
        },
        {
          "output_type": "stream",
          "text": [
            "\n"
          ],
          "name": "stderr"
        }
      ]
    },
    {
      "cell_type": "code",
      "metadata": {
        "colab": {
          "base_uri": "https://localhost:8080/"
        },
        "id": "0SV3kcqUZ6A-",
        "outputId": "796d899b-8991-4b6d-aa6c-8e6e5fa1ec95"
      },
      "source": [
        "# Rename columns in the DataFrames according to the values\n",
        "columns = []\n",
        "for point in kp_descriptions:\n",
        "    for value in ('y', 'x', 'score'):\n",
        "        columns.append(f'{point}_{value}')\n",
        "\n",
        "keypoints_df.columns = columns\n",
        "keypoints_fl_df.columns = columns\n",
        "print(keypoints_df.head())"
      ],
      "execution_count": 19,
      "outputs": [
        {
          "output_type": "stream",
          "text": [
            "     nose_y    nose_x  ...  right_ankle_x  right_ankle_score\n",
            "0  0.241686  0.489639  ...       0.276138           0.932002\n",
            "1  0.428004  0.507640  ...       0.376981           0.717146\n",
            "2  0.214819  0.535717  ...       0.316377           0.912192\n",
            "3  0.465876  0.775800  ...       0.252600           0.397556\n",
            "4  0.305628  0.499608  ...       0.309783           0.669106\n",
            "\n",
            "[5 rows x 51 columns]\n"
          ],
          "name": "stdout"
        }
      ]
    },
    {
      "cell_type": "code",
      "metadata": {
        "colab": {
          "base_uri": "https://localhost:8080/"
        },
        "id": "jaqJPF-DaJVM",
        "outputId": "361532b9-c51b-46d0-b486-286496c6c6be"
      },
      "source": [
        "keypoints_df = add_pos_features(keypoints_df, drop_scores=True)\n",
        "keypoints_fl_df = add_pos_features(keypoints_fl_df, drop_scores=True)\n",
        "print(keypoints_df.head())"
      ],
      "execution_count": 20,
      "outputs": [
        {
          "output_type": "stream",
          "text": [
            "Positional features added. DataFrame shape: (470, 226)\n",
            "Positional features added. DataFrame shape: (940, 226)\n",
            "     nose_y    nose_x  ...  right_wrist_left_elbow  right_wrist_right_elbow\n",
            "0  0.241686  0.489639  ...                       0                        0\n",
            "1  0.428004  0.507640  ...                       0                        0\n",
            "2  0.214819  0.535717  ...                       0                        0\n",
            "3  0.465876  0.775800  ...                       0                        1\n",
            "4  0.305628  0.499608  ...                       0                        0\n",
            "\n",
            "[5 rows x 226 columns]\n"
          ],
          "name": "stdout"
        }
      ]
    },
    {
      "cell_type": "code",
      "metadata": {
        "id": "Zj9GQv6cvBFc"
      },
      "source": [
        "keypoints_df['label'] = classes_df['label'].values\n",
        "\n",
        "# Add 2 sets of target values - for original and flipped images\n",
        "keypoints_fl_df['label'] = np.hstack(\n",
        "    [classes_df['label'].values, classes_df['label'].values]\n",
        ")\n",
        "\n",
        "# Save the data for future use\n",
        "keypoints_df.to_csv('keypoints.csv', index=False)\n",
        "keypoints_fl_df.to_csv('keypoints_fl.csv', index=False)"
      ],
      "execution_count": 44,
      "outputs": []
    },
    {
      "cell_type": "code",
      "metadata": {
        "id": "wnHqYGa0wIFt",
        "colab": {
          "base_uri": "https://localhost:8080/"
        },
        "outputId": "9e623df6-538e-4e92-cec2-619019c0930b"
      },
      "source": [
        "y = keypoints_df.pop('label')\n",
        "y_fl = keypoints_fl_df.pop('label')\n",
        "n_features = len(keypoints_df.columns)\n",
        "\n",
        "# Split keypoints data and labels into train and validation sets\n",
        "x_train, x_valid, y_train, y_valid = train_test_split(\n",
        "    keypoints_df, y,\n",
        "    stratify=y, test_size=0.2\n",
        ")\n",
        "\n",
        "x_train_fl, x_valid_fl, y_train_fl, y_valid_fl = train_test_split(\n",
        "    keypoints_fl_df, y_fl,\n",
        "    stratify=y_fl, test_size=0.2\n",
        ")\n",
        "print(x_train)\n",
        "print(x_valid)"
      ],
      "execution_count": 45,
      "outputs": [
        {
          "output_type": "stream",
          "text": [
            "       nose_y    nose_x  ...  right_wrist_left_elbow  right_wrist_right_elbow\n",
            "282  0.430621  0.817662  ...                       1                        1\n",
            "329  0.473780  0.837290  ...                       1                        1\n",
            "260  0.632198  0.347041  ...                       1                        1\n",
            "406  0.315392  0.519860  ...                       0                        0\n",
            "344  0.605811  0.306041  ...                       0                        0\n",
            "..        ...       ...  ...                     ...                      ...\n",
            "378  0.533896  0.140675  ...                       1                        1\n",
            "14   0.462711  0.505813  ...                       1                        1\n",
            "220  0.595190  0.652296  ...                       1                        1\n",
            "8    0.179286  0.529541  ...                       0                        0\n",
            "359  0.459243  0.677607  ...                       0                        0\n",
            "\n",
            "[376 rows x 226 columns]\n",
            "       nose_y    nose_x  ...  right_wrist_left_elbow  right_wrist_right_elbow\n",
            "339  0.505352  0.200698  ...                       1                        1\n",
            "210  0.532134  0.363387  ...                       1                        1\n",
            "302  0.490327  0.651785  ...                       0                        0\n",
            "0    0.241686  0.489639  ...                       0                        0\n",
            "331  0.460847  0.195674  ...                       1                        1\n",
            "..        ...       ...  ...                     ...                      ...\n",
            "135  0.262484  0.485453  ...                       0                        0\n",
            "273  0.632285  0.650051  ...                       1                        1\n",
            "292  0.445485  0.140050  ...                       1                        1\n",
            "263  0.642759  0.518994  ...                       1                        1\n",
            "144  0.290555  0.587177  ...                       1                        0\n",
            "\n",
            "[94 rows x 226 columns]\n"
          ],
          "name": "stdout"
        }
      ]
    },
    {
      "cell_type": "markdown",
      "metadata": {
        "id": "Gdckbc6_xrky"
      },
      "source": [
        "SVM Classifier"
      ]
    },
    {
      "cell_type": "code",
      "metadata": {
        "id": "fvJdqjC0wcXX"
      },
      "source": [
        "from sklearn import svm\n",
        "\n",
        "#Create a svm Classifier\n",
        "#clf = svm.SVC(kernel='poly', degree=8) \n",
        "clf = svm.SVC(kernel='rbf')# Linear Kernel\n",
        "\n",
        "#Train the model using the training sets\n",
        "clf.fit(x_train, y_train)\n",
        "\n",
        "#Predict the response for test dataset\n",
        "y_pred = clf.predict(x_valid)"
      ],
      "execution_count": 36,
      "outputs": []
    },
    {
      "cell_type": "code",
      "metadata": {
        "colab": {
          "base_uri": "https://localhost:8080/"
        },
        "id": "kj8qdaKo5OVg",
        "outputId": "8773f6c9-0431-4ef4-8c8c-3b287c3237ba"
      },
      "source": [
        "from sklearn import metrics\n",
        "\n",
        "# Model Accuracy: how often is the classifier correct?\n",
        "\n",
        "print(\"Training Accuracy :\", clf.score(x_train, y_train))\n",
        "print(\"Testing Accuracy :\", clf.score( x_valid, y_valid))"
      ],
      "execution_count": 37,
      "outputs": [
        {
          "output_type": "stream",
          "text": [
            "Training Accuracy : 0.9202127659574468\n",
            "Testing Accuracy : 0.925531914893617\n"
          ],
          "name": "stdout"
        }
      ]
    },
    {
      "cell_type": "code",
      "metadata": {
        "colab": {
          "base_uri": "https://localhost:8080/"
        },
        "id": "i24EbgWHF2oe",
        "outputId": "97867545-8e9b-4c80-8c19-a8ad8a0571d9"
      },
      "source": [
        "from sklearn.metrics import classification_report, confusion_matrix\n",
        "print(confusion_matrix(y_valid, y_pred))\n",
        "print(classification_report(y_valid, y_pred))"
      ],
      "execution_count": 26,
      "outputs": [
        {
          "output_type": "stream",
          "text": [
            "[[16  0  1  0  2]\n",
            " [ 0 15  0  0  1]\n",
            " [ 1  0 22  0  0]\n",
            " [ 0  0  0 14  0]\n",
            " [ 1  0  1  0 20]]\n",
            "              precision    recall  f1-score   support\n",
            "\n",
            "           0       0.89      0.84      0.86        19\n",
            "           1       1.00      0.94      0.97        16\n",
            "           2       0.92      0.96      0.94        23\n",
            "           3       1.00      1.00      1.00        14\n",
            "           4       0.87      0.91      0.89        22\n",
            "\n",
            "    accuracy                           0.93        94\n",
            "   macro avg       0.94      0.93      0.93        94\n",
            "weighted avg       0.93      0.93      0.93        94\n",
            "\n"
          ],
          "name": "stdout"
        }
      ]
    },
    {
      "cell_type": "code",
      "metadata": {
        "id": "vPlotTk05wvc"
      },
      "source": [
        "from sklearn import svm\n",
        "\n",
        "#Create a svm Classifier\n",
        "clf = svm.SVC(kernel='poly') # Linear Kernel\n",
        "\n",
        "#Train the model using the training sets\n",
        "clf.fit(x_train_fl, y_train_fl)\n",
        "\n",
        "#Predict the response for test dataset\n",
        "y_pred = clf.predict(x_valid_fl)"
      ],
      "execution_count": 31,
      "outputs": []
    },
    {
      "cell_type": "code",
      "metadata": {
        "colab": {
          "base_uri": "https://localhost:8080/"
        },
        "id": "B-3_hGuB6Lxk",
        "outputId": "fe2a76cd-b9af-4855-b854-20abc1e36f5f"
      },
      "source": [
        "from sklearn import metrics\n",
        "\n",
        "# Model Accuracy: how often is the classifier correct?\n",
        "print(\"Accuracy:\",metrics.accuracy_score(y_valid_fl, y_pred))\n"
      ],
      "execution_count": 32,
      "outputs": [
        {
          "output_type": "stream",
          "text": [
            "Accuracy: 0.9414893617021277\n"
          ],
          "name": "stdout"
        }
      ]
    },
    {
      "cell_type": "markdown",
      "metadata": {
        "id": "bN1klpPVyF4J"
      },
      "source": [
        "Random Forest Classifier"
      ]
    },
    {
      "cell_type": "code",
      "metadata": {
        "colab": {
          "base_uri": "https://localhost:8080/"
        },
        "id": "xe5pOlKhWMPL",
        "outputId": "11c6bceb-7795-447b-a1d9-dfd0e4df2ec6"
      },
      "source": [
        "from sklearn.ensemble import RandomForestClassifier\n",
        "rf = RandomForestClassifier()\n",
        "rf.fit(x_train, y_train)\n",
        "\n",
        "#Predict the response for test dataset\n",
        "y_pred = rf.predict(x_valid)\n",
        "\n",
        "print(\"Training Accuracy :\", clf.score(x_train, y_train))\n",
        "print(\"Testing Accuracy :\", clf.score( x_valid, y_valid))\n"
      ],
      "execution_count": 30,
      "outputs": [
        {
          "output_type": "stream",
          "text": [
            "Training Accuracy : 0.9441489361702128\n",
            "Testing Accuracy : 0.9468085106382979\n"
          ],
          "name": "stdout"
        }
      ]
    },
    {
      "cell_type": "code",
      "metadata": {
        "colab": {
          "base_uri": "https://localhost:8080/"
        },
        "id": "ifezRKyijbu8",
        "outputId": "71615833-14fe-4273-df1f-1404ef90af89"
      },
      "source": [
        "rf1 = RandomForestClassifier()\n",
        "rf1.fit(x_train_fl, y_train_fl)\n",
        "\n",
        "#Predict the response for test dataset\n",
        "y_pred = rf1.predict(x_valid_fl)\n",
        "print(confusion_matrix(y_valid_fl, y_pred))\n",
        "print(classification_report(y_valid_fl, y_pred))\n"
      ],
      "execution_count": 38,
      "outputs": [
        {
          "output_type": "stream",
          "text": [
            "[[37  0  1  0  1]\n",
            " [ 0 28  0  0  4]\n",
            " [ 0  0 46  0  0]\n",
            " [ 0  0  2 26  0]\n",
            " [ 1  2  0  0 40]]\n",
            "              precision    recall  f1-score   support\n",
            "\n",
            "           0       0.97      0.95      0.96        39\n",
            "           1       0.93      0.88      0.90        32\n",
            "           2       0.94      1.00      0.97        46\n",
            "           3       1.00      0.93      0.96        28\n",
            "           4       0.89      0.93      0.91        43\n",
            "\n",
            "    accuracy                           0.94       188\n",
            "   macro avg       0.95      0.94      0.94       188\n",
            "weighted avg       0.94      0.94      0.94       188\n",
            "\n"
          ],
          "name": "stdout"
        }
      ]
    }
  ]
}